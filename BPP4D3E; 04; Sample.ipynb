{
  "cells": [
    {
      "cell_type": "markdown",
      "metadata": {
        "id": "MJxq46tfTXBX"
      },
      "source": [
        "# Creating the Application"
      ]
    },
    {
      "cell_type": "markdown",
      "metadata": {
        "id": "m3dfeLeSbJda"
      },
      "source": [
        "## Developing the code"
      ]
    },
    {
      "cell_type": "code",
      "execution_count": 1,
      "metadata": {
        "colab": {
          "base_uri": "https://localhost:8080/"
        },
        "id": "dCVtQwI5TMmF",
        "outputId": "fa4d0530-3950-48e7-c6ee-5a10849edf34"
      },
      "outputs": [
        {
          "output_type": "stream",
          "name": "stdout",
          "text": [
            "3\n"
          ]
        }
      ],
      "source": [
        "# Define a function to encapsulate task code that accepts\n",
        "# two pieces of information in boxes called variables\n",
        "# named value1 and value2.\n",
        "def addSomething(value1, value2):\n",
        "\n",
        "    # Add the two values together and return the result\n",
        "    # to the caller.\n",
        "    return value1 + value2\n",
        "\n",
        "# Call the addSomething() function with two numbers to\n",
        "# add and then use print() to display the result.\n",
        "print(addSomething(1, 2))"
      ]
    },
    {
      "cell_type": "markdown",
      "metadata": {
        "id": "6ur5f4Mri6lr"
      },
      "source": [
        "## Interacting with form fields"
      ]
    },
    {
      "cell_type": "code",
      "execution_count": 2,
      "metadata": {
        "colab": {
          "base_uri": "https://localhost:8080/"
        },
        "id": "s-TfQ_hWTVaA",
        "outputId": "7dddb0b4-b984-4935-f83f-108c80179a7e"
      },
      "outputs": [
        {
          "output_type": "stream",
          "name": "stdout",
          "text": [
            "Type your name: Linda\n",
            "Your name is: Linda\n"
          ]
        }
      ],
      "source": [
        "first_name = input(\"Type your name: \")\n",
        "print(f\"Your name is: {first_name}\")"
      ]
    },
    {
      "cell_type": "code",
      "execution_count": 3,
      "metadata": {
        "colab": {
          "base_uri": "https://localhost:8080/"
        },
        "id": "_HnrTFoUvy2J",
        "outputId": "51706fe9-81e6-437e-c19f-60cebd36a6ee"
      },
      "outputs": [
        {
          "output_type": "stream",
          "name": "stdout",
          "text": [
            "Your name is: Linda\n",
            "Your Selected name is : Martha\n"
          ]
        }
      ],
      "source": [
        "YourName = \"Martha\" # @param [\"Ali\", \"Steve\", \"John\"] {allow-input: true}\n",
        "print(f\"Your name is: {first_name}\")\n",
        "print(f\"Your Selected name is : {YourName}\")"
      ]
    },
    {
      "cell_type": "code",
      "execution_count": 4,
      "metadata": {
        "id": "efAfT1pj8Z5z",
        "outputId": "4f99ea0b-f6f9-4d5d-cf5c-305e45fa62e5",
        "colab": {
          "base_uri": "https://localhost:8080/"
        }
      },
      "outputs": [
        {
          "output_type": "stream",
          "name": "stdout",
          "text": [
            " \n",
            "This is the another way\n",
            "of attaching a multi line variable\n"
          ]
        }
      ],
      "source": [
        "my_string = '''\n",
        "This is the another way\n",
        "of attaching a multi line variable\n",
        "'''\n",
        "\n",
        "print (my_string)"
      ]
    }
  ],
  "metadata": {
    "colab": {
      "name": "BPP4D3E; 04; Sample.ipynb",
      "provenance": []
    },
    "kernelspec": {
      "display_name": "Python 3",
      "language": "python",
      "name": "python3"
    },
    "language_info": {
      "codemirror_mode": {
        "name": "ipython",
        "version": 3
      },
      "file_extension": ".py",
      "mimetype": "text/x-python",
      "name": "python",
      "nbconvert_exporter": "python",
      "pygments_lexer": "ipython3",
      "version": "3.8.3"
    }
  },
  "nbformat": 4,
  "nbformat_minor": 0
}