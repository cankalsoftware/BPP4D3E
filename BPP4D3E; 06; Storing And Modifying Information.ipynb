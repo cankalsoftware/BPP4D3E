{
  "cells": [
    {
      "cell_type": "markdown",
      "metadata": {
        "id": "WJf4YEOXQLeO"
      },
      "source": [
        "# Defining the Essential Python Data Types"
      ]
    },
    {
      "cell_type": "markdown",
      "metadata": {
        "id": "UqBe86rtQLeP"
      },
      "source": [
        "## Putting information into variables"
      ]
    },
    {
      "cell_type": "code",
      "execution_count": null,
      "metadata": {
        "id": "KyT23y-HQLeP",
        "outputId": "7fb81301-3f52-4e06-aeda-7622fa98bfb6"
      },
      "outputs": [
        {
          "name": "stdout",
          "output_type": "stream",
          "text": [
            "5\n"
          ]
        }
      ],
      "source": [
        "myVar = 5\n",
        "print(myVar)"
      ]
    },
    {
      "cell_type": "markdown",
      "metadata": {
        "id": "NaWgUR5yQLeQ"
      },
      "source": [
        "## Understanding the numeric types\n",
        "### Integers"
      ]
    },
    {
      "cell_type": "code",
      "execution_count": 1,
      "metadata": {
        "id": "K4bZ3VsXQLeQ",
        "outputId": "8b788c0d-f2fd-4355-dd9a-a080de3cb15f",
        "colab": {
          "base_uri": "https://localhost:8080/"
        }
      },
      "outputs": [
        {
          "output_type": "stream",
          "name": "stdout",
          "text": [
            "100 Binary:  4\n",
            "100 Octal:  64\n",
            "100 Decimal:  100\n",
            "100 Hexadecimal: 256\n",
            "0b100000000\n",
            "0o400\n",
            "0x100\n"
          ]
        }
      ],
      "source": [
        "Test = 0b100\n",
        "print(\"100 Binary: \", Test)\n",
        "\n",
        "Test = 0o100\n",
        "print(\"100 Octal: \", Test)\n",
        "\n",
        "Test = 100\n",
        "print (\"100 Decimal: \", Test)\n",
        "\n",
        "Test = 0x100\n",
        "print(\"100 Hexadecimal:\", Test)\n",
        "\n",
        "print(bin(Test))\n",
        "print(oct(Test))\n",
        "print(hex(Test))"
      ]
    },
    {
      "cell_type": "markdown",
      "metadata": {
        "id": "fHuq3Q0cQLeR"
      },
      "source": [
        "### Floating-point values"
      ]
    },
    {
      "cell_type": "code",
      "execution_count": null,
      "metadata": {
        "id": "Qkgimz6JQLeR",
        "outputId": "c8c64346-e229-4178-a321-26a62b1cfedb"
      },
      "outputs": [
        {
          "name": "stdout",
          "output_type": "stream",
          "text": [
            "Direct Assignment:  255.0\n",
            "Scientific Notation:  255.0\n",
            "Negative Exponent:  0.0255\n"
          ]
        }
      ],
      "source": [
        "Test = 255.0\n",
        "print(\"Direct Assignment: \", Test)\n",
        "\n",
        "Test = 2.55e2\n",
        "print(\"Scientific Notation: \", Test)\n",
        "\n",
        "Test = 2.55e-2\n",
        "print(\"Negative Exponent: \", Test)"
      ]
    },
    {
      "cell_type": "markdown",
      "metadata": {
        "id": "VuPgopufQLeR"
      },
      "source": [
        "### Complex numbers"
      ]
    },
    {
      "cell_type": "code",
      "execution_count": null,
      "metadata": {
        "id": "6UuKz-arQLeR",
        "outputId": "bdbc80c9-0f97-4f22-b1c2-5eca335b514f"
      },
      "outputs": [
        {
          "name": "stdout",
          "output_type": "stream",
          "text": [
            "Real Part:  3.0\n",
            "Imaginary Part:  4.0\n"
          ]
        }
      ],
      "source": [
        "myComplex = 3 + 4j\n",
        "print(\"Real Part: \", myComplex.real)\n",
        "print(\"Imaginary Part: \", myComplex.imag)"
      ]
    },
    {
      "cell_type": "markdown",
      "metadata": {
        "id": "cZZKmbqlQLeR"
      },
      "source": [
        "### Understanding Boolean values"
      ]
    },
    {
      "cell_type": "code",
      "execution_count": null,
      "metadata": {
        "id": "4QivKkwWQLeR",
        "outputId": "de0f379b-1b91-43b8-f626-26fca2352982"
      },
      "outputs": [
        {
          "name": "stdout",
          "output_type": "stream",
          "text": [
            "Is 1 > 2?  False\n"
          ]
        }
      ],
      "source": [
        "myBool = 1 > 2\n",
        "print(\"Is 1 > 2? \", myBool)"
      ]
    },
    {
      "cell_type": "markdown",
      "metadata": {
        "id": "7Yfbqw0MQLeR"
      },
      "source": [
        "# *DETERMINING A VARIABLE’S TYPE*"
      ]
    },
    {
      "cell_type": "code",
      "execution_count": null,
      "metadata": {
        "id": "MlsxlFO5QLeS",
        "outputId": "27e2817c-c442-4f6a-99ee-7f8fd3423271"
      },
      "outputs": [
        {
          "name": "stdout",
          "output_type": "stream",
          "text": [
            "<class 'int'>\n"
          ]
        }
      ],
      "source": [
        "myInt = 5\n",
        "print(type(myInt))"
      ]
    },
    {
      "cell_type": "markdown",
      "metadata": {
        "id": "9iobuCWcQLeS"
      },
      "source": [
        "### Understanding strings"
      ]
    },
    {
      "cell_type": "code",
      "execution_count": null,
      "metadata": {
        "id": "SxE3R1BoQLeS",
        "outputId": "437a0b93-ebd7-4490-e813-fa2ede97b46f"
      },
      "outputs": [
        {
          "name": "stdout",
          "output_type": "stream",
          "text": [
            "65\n",
            "123\n",
            "<class 'int'>\n"
          ]
        }
      ],
      "source": [
        "print(ord(\"A\"))\n",
        "\n",
        "myInt = int(\"123\")\n",
        "print(myInt)\n",
        "\n",
        "print(type(myInt))"
      ]
    },
    {
      "cell_type": "code",
      "execution_count": null,
      "metadata": {
        "id": "Z6F7Am1dQLeS",
        "outputId": "c8461dc1-24fe-48fd-907f-6040bb712ee2"
      },
      "outputs": [
        {
          "name": "stdout",
          "output_type": "stream",
          "text": [
            "1234.56\n",
            "<class 'str'>\n"
          ]
        }
      ],
      "source": [
        "myStr = str(1234.56)\n",
        "print(myStr)\n",
        "print(type(myStr))"
      ]
    },
    {
      "cell_type": "markdown",
      "metadata": {
        "id": "jIdODROvQLeS"
      },
      "source": [
        "# Working with Dates and Times"
      ]
    },
    {
      "cell_type": "code",
      "execution_count": 5,
      "metadata": {
        "id": "IUr1owriQLeS",
        "outputId": "d86d336e-c7da-4074-beb7-b37fc323b2fb",
        "colab": {
          "base_uri": "https://localhost:8080/"
        }
      },
      "outputs": [
        {
          "output_type": "stream",
          "name": "stdout",
          "text": [
            "2024-01-11 21:02:15.300124\n"
          ]
        }
      ],
      "source": [
        "import datetime\n",
        "print(datetime.datetime.now())"
      ]
    },
    {
      "cell_type": "code",
      "execution_count": 16,
      "metadata": {
        "id": "Jg4yIqHmQLeS",
        "outputId": "e5254db9-6070-485c-e660-786ba691244f",
        "colab": {
          "base_uri": "https://localhost:8080/"
        }
      },
      "outputs": [
        {
          "output_type": "stream",
          "name": "stdout",
          "text": [
            "2024-01-11\n",
            "21:06:49.334098\n"
          ]
        }
      ],
      "source": [
        "print(str(datetime.datetime.now().date()))\n",
        "print(str(datetime.datetime.now().time()))"
      ]
    },
    {
      "cell_type": "code",
      "execution_count": null,
      "metadata": {
        "collapsed": true,
        "id": "KUt0TIZHQLeS"
      },
      "outputs": [],
      "source": []
    }
  ],
  "metadata": {
    "kernelspec": {
      "display_name": "Python 3",
      "language": "python",
      "name": "python3"
    },
    "language_info": {
      "codemirror_mode": {
        "name": "ipython",
        "version": 3
      },
      "file_extension": ".py",
      "mimetype": "text/x-python",
      "name": "python",
      "nbconvert_exporter": "python",
      "pygments_lexer": "ipython3",
      "version": "3.8.3"
    },
    "colab": {
      "provenance": []
    }
  },
  "nbformat": 4,
  "nbformat_minor": 0
}