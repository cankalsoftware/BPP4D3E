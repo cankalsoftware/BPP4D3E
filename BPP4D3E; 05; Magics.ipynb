{
  "cells": [
    {
      "cell_type": "markdown",
      "metadata": {
        "id": "TOV3I4SXJXy9"
      },
      "source": [
        "# Understanding the Concept of a Magic Function"
      ]
    },
    {
      "cell_type": "code",
      "execution_count": null,
      "metadata": {
        "id": "AmaVx6ZdJXy-",
        "outputId": "683d2589-3a37-430f-bd29-9608b169af46"
      },
      "outputs": [
        {
          "data": {
            "application/json": {
              "cell": {
                "!": "OSMagics",
                "HTML": "Other",
                "SVG": "Other",
                "bash": "Other",
                "capture": "ExecutionMagics",
                "cmd": "Other",
                "debug": "ExecutionMagics",
                "file": "Other",
                "html": "DisplayMagics",
                "javascript": "DisplayMagics",
                "js": "DisplayMagics",
                "latex": "DisplayMagics",
                "markdown": "DisplayMagics",
                "perl": "Other",
                "prun": "ExecutionMagics",
                "pypy": "Other",
                "python": "Other",
                "python2": "Other",
                "python3": "Other",
                "ruby": "Other",
                "script": "ScriptMagics",
                "sh": "Other",
                "svg": "DisplayMagics",
                "sx": "OSMagics",
                "system": "OSMagics",
                "time": "ExecutionMagics",
                "timeit": "ExecutionMagics",
                "writefile": "OSMagics"
              },
              "line": {
                "alias": "OSMagics",
                "alias_magic": "BasicMagics",
                "autoawait": "AsyncMagics",
                "autocall": "AutoMagics",
                "automagic": "AutoMagics",
                "autosave": "KernelMagics",
                "bookmark": "OSMagics",
                "cd": "OSMagics",
                "clear": "KernelMagics",
                "cls": "KernelMagics",
                "colors": "BasicMagics",
                "conda": "PackagingMagics",
                "config": "ConfigMagics",
                "connect_info": "KernelMagics",
                "copy": "Other",
                "ddir": "Other",
                "debug": "ExecutionMagics",
                "dhist": "OSMagics",
                "dirs": "OSMagics",
                "doctest_mode": "BasicMagics",
                "echo": "Other",
                "ed": "Other",
                "edit": "KernelMagics",
                "env": "OSMagics",
                "gui": "BasicMagics",
                "hist": "Other",
                "history": "HistoryMagics",
                "killbgscripts": "ScriptMagics",
                "ldir": "Other",
                "less": "KernelMagics",
                "load": "CodeMagics",
                "load_ext": "ExtensionMagics",
                "loadpy": "CodeMagics",
                "logoff": "LoggingMagics",
                "logon": "LoggingMagics",
                "logstart": "LoggingMagics",
                "logstate": "LoggingMagics",
                "logstop": "LoggingMagics",
                "ls": "Other",
                "lsmagic": "BasicMagics",
                "macro": "ExecutionMagics",
                "magic": "BasicMagics",
                "matplotlib": "PylabMagics",
                "mkdir": "Other",
                "more": "KernelMagics",
                "notebook": "BasicMagics",
                "page": "BasicMagics",
                "pastebin": "CodeMagics",
                "pdb": "ExecutionMagics",
                "pdef": "NamespaceMagics",
                "pdoc": "NamespaceMagics",
                "pfile": "NamespaceMagics",
                "pinfo": "NamespaceMagics",
                "pinfo2": "NamespaceMagics",
                "pip": "PackagingMagics",
                "popd": "OSMagics",
                "pprint": "BasicMagics",
                "precision": "BasicMagics",
                "prun": "ExecutionMagics",
                "psearch": "NamespaceMagics",
                "psource": "NamespaceMagics",
                "pushd": "OSMagics",
                "pwd": "OSMagics",
                "pycat": "OSMagics",
                "pylab": "PylabMagics",
                "qtconsole": "KernelMagics",
                "quickref": "BasicMagics",
                "recall": "HistoryMagics",
                "rehashx": "OSMagics",
                "reload_ext": "ExtensionMagics",
                "ren": "Other",
                "rep": "Other",
                "rerun": "HistoryMagics",
                "reset": "NamespaceMagics",
                "reset_selective": "NamespaceMagics",
                "rmdir": "Other",
                "run": "ExecutionMagics",
                "save": "CodeMagics",
                "sc": "OSMagics",
                "set_env": "OSMagics",
                "store": "StoreMagics",
                "sx": "OSMagics",
                "system": "OSMagics",
                "tb": "ExecutionMagics",
                "time": "ExecutionMagics",
                "timeit": "ExecutionMagics",
                "unalias": "OSMagics",
                "unload_ext": "ExtensionMagics",
                "who": "NamespaceMagics",
                "who_ls": "NamespaceMagics",
                "whos": "NamespaceMagics",
                "xdel": "NamespaceMagics",
                "xmode": "BasicMagics"
              }
            },
            "text/plain": [
              "Available line magics:\n",
              "%alias  %alias_magic  %autoawait  %autocall  %automagic  %autosave  %bookmark  %cd  %clear  %cls  %colors  %conda  %config  %connect_info  %copy  %ddir  %debug  %dhist  %dirs  %doctest_mode  %echo  %ed  %edit  %env  %gui  %hist  %history  %killbgscripts  %ldir  %less  %load  %load_ext  %loadpy  %logoff  %logon  %logstart  %logstate  %logstop  %ls  %lsmagic  %macro  %magic  %matplotlib  %mkdir  %more  %notebook  %page  %pastebin  %pdb  %pdef  %pdoc  %pfile  %pinfo  %pinfo2  %pip  %popd  %pprint  %precision  %prun  %psearch  %psource  %pushd  %pwd  %pycat  %pylab  %qtconsole  %quickref  %recall  %rehashx  %reload_ext  %ren  %rep  %rerun  %reset  %reset_selective  %rmdir  %run  %save  %sc  %set_env  %store  %sx  %system  %tb  %time  %timeit  %unalias  %unload_ext  %who  %who_ls  %whos  %xdel  %xmode\n",
              "\n",
              "Available cell magics:\n",
              "%%!  %%HTML  %%SVG  %%bash  %%capture  %%cmd  %%debug  %%file  %%html  %%javascript  %%js  %%latex  %%markdown  %%perl  %%prun  %%pypy  %%python  %%python2  %%python3  %%ruby  %%script  %%sh  %%svg  %%sx  %%system  %%time  %%timeit  %%writefile\n",
              "\n",
              "Automagic is ON, % prefix IS NOT needed for line magics."
            ]
          },
          "execution_count": 1,
          "metadata": {},
          "output_type": "execute_result"
        }
      ],
      "source": [
        "%lsmagic"
      ]
    },
    {
      "cell_type": "markdown",
      "metadata": {
        "id": "OPx54TbpJXy_"
      },
      "source": [
        "# What Kind of Magic Do You Want to Perform?\n",
        "\n",
        "Find the other Magic code\n",
        "https://damontallen.github.io/IPython-quick-ref-sheets/"
      ]
    },
    {
      "cell_type": "markdown",
      "metadata": {
        "id": "Xk9aS7DqJXzA"
      },
      "source": [
        "## Working with line magics"
      ]
    },
    {
      "cell_type": "code",
      "execution_count": 17,
      "metadata": {
        "id": "Wp1fqgTNJXzA",
        "outputId": "a3101e7e-6a92-44cf-ff23-f6f37dc42506",
        "colab": {
          "base_uri": "https://localhost:8080/"
        }
      },
      "outputs": [
        {
          "output_type": "stream",
          "name": "stdout",
          "text": [
            "\u001b[0m\u001b[01;34msample_data\u001b[0m/\n",
            "None\n"
          ]
        }
      ],
      "source": [
        "myDir = %ls\n",
        "print(myDir)"
      ]
    },
    {
      "cell_type": "markdown",
      "metadata": {
        "id": "DP77-eAvJXzA"
      },
      "source": [
        "# Learning the Magics Words"
      ]
    },
    {
      "cell_type": "markdown",
      "metadata": {
        "id": "GmTXLrHPJXzA"
      },
      "source": [
        "## Getting a list of magics"
      ]
    },
    {
      "cell_type": "code",
      "execution_count": 15,
      "metadata": {
        "id": "AzfdzX0sJXzA"
      },
      "outputs": [],
      "source": [
        "%quickref"
      ]
    },
    {
      "cell_type": "code",
      "execution_count": 4,
      "metadata": {
        "id": "9PZ1W_ndJXzA",
        "outputId": "6a539c21-8d66-45a6-f2c9-201eabaf3cfd",
        "colab": {
          "base_uri": "https://localhost:8080/"
        }
      },
      "outputs": [
        {
          "output_type": "stream",
          "name": "stdout",
          "text": [
            "3\n",
            " "
          ]
        }
      ],
      "source": [
        "%%prun\n",
        "X = 1\n",
        "Y = 2\n",
        "print(X + Y)"
      ]
    },
    {
      "cell_type": "code",
      "execution_count": 7,
      "metadata": {
        "id": "l8wjaenmJXzA"
      },
      "outputs": [],
      "source": [
        "def doAdd(var1, var2):\n",
        "    return var1 + var2"
      ]
    },
    {
      "cell_type": "code",
      "execution_count": 8,
      "metadata": {
        "id": "vu6TprfQJXzB",
        "outputId": "2acb798a-4f8b-4fa4-df2f-88442688e052",
        "colab": {
          "base_uri": "https://localhost:8080/"
        }
      },
      "outputs": [
        {
          "output_type": "stream",
          "name": "stdout",
          "text": [
            " "
          ]
        }
      ],
      "source": [
        "%prun doAdd(1, 2)"
      ]
    },
    {
      "cell_type": "code",
      "execution_count": 9,
      "metadata": {
        "id": "-jsxInC3JXzB",
        "outputId": "bf92585a-5263-4953-e75f-e6ab6035274e",
        "colab": {
          "base_uri": "https://localhost:8080/"
        }
      },
      "outputs": [
        {
          "output_type": "stream",
          "name": "stdout",
          "text": [
            "Usage: cp [OPTION]... [-T] SOURCE DEST\n",
            "  or:  cp [OPTION]... SOURCE... DIRECTORY\n",
            "  or:  cp [OPTION]... -t DIRECTORY SOURCE...\n",
            "Copy SOURCE to DEST, or multiple SOURCE(s) to DIRECTORY.\n",
            "\n",
            "Mandatory arguments to long options are mandatory for short options too.\n",
            "  -a, --archive                same as -dR --preserve=all\n",
            "      --attributes-only        don't copy the file data, just the attributes\n",
            "      --backup[=CONTROL]       make a backup of each existing destination file\n",
            "  -b                           like --backup but does not accept an argument\n",
            "      --copy-contents          copy contents of special files when recursive\n",
            "  -d                           same as --no-dereference --preserve=links\n",
            "  -f, --force                  if an existing destination file cannot be\n",
            "                                 opened, remove it and try again (this option\n",
            "                                 is ignored when the -n option is also used)\n",
            "  -i, --interactive            prompt before overwrite (overrides a previous -n\n",
            "                                  option)\n",
            "  -H                           follow command-line symbolic links in SOURCE\n",
            "  -l, --link                   hard link files instead of copying\n",
            "  -L, --dereference            always follow symbolic links in SOURCE\n",
            "  -n, --no-clobber             do not overwrite an existing file (overrides\n",
            "                                 a previous -i option)\n",
            "  -P, --no-dereference         never follow symbolic links in SOURCE\n",
            "  -p                           same as --preserve=mode,ownership,timestamps\n",
            "      --preserve[=ATTR_LIST]   preserve the specified attributes (default:\n",
            "                                 mode,ownership,timestamps), if possible\n",
            "                                 additional attributes: context, links, xattr,\n",
            "                                 all\n",
            "      --no-preserve=ATTR_LIST  don't preserve the specified attributes\n",
            "      --parents                use full source file name under DIRECTORY\n",
            "  -R, -r, --recursive          copy directories recursively\n",
            "      --reflink[=WHEN]         control clone/CoW copies. See below\n",
            "      --remove-destination     remove each existing destination file before\n",
            "                                 attempting to open it (contrast with --force)\n",
            "      --sparse=WHEN            control creation of sparse files. See below\n",
            "      --strip-trailing-slashes  remove any trailing slashes from each SOURCE\n",
            "                                 argument\n",
            "  -s, --symbolic-link          make symbolic links instead of copying\n",
            "  -S, --suffix=SUFFIX          override the usual backup suffix\n",
            "  -t, --target-directory=DIRECTORY  copy all SOURCE arguments into DIRECTORY\n",
            "  -T, --no-target-directory    treat DEST as a normal file\n",
            "  -u, --update                 copy only when the SOURCE file is newer\n",
            "                                 than the destination file or when the\n",
            "                                 destination file is missing\n",
            "  -v, --verbose                explain what is being done\n",
            "  -x, --one-file-system        stay on this file system\n",
            "  -Z                           set SELinux security context of destination\n",
            "                                 file to default type\n",
            "      --context[=CTX]          like -Z, or if CTX is specified then set the\n",
            "                                 SELinux or SMACK security context to CTX\n",
            "      --help     display this help and exit\n",
            "      --version  output version information and exit\n",
            "\n",
            "By default, sparse SOURCE files are detected by a crude heuristic and the\n",
            "corresponding DEST file is made sparse as well.  That is the behavior\n",
            "selected by --sparse=auto.  Specify --sparse=always to create a sparse DEST\n",
            "file whenever the SOURCE file contains a long enough sequence of zero bytes.\n",
            "Use --sparse=never to inhibit creation of sparse files.\n",
            "\n",
            "When --reflink[=always] is specified, perform a lightweight copy, where the\n",
            "data blocks are copied only when modified.  If this is not possible the copy\n",
            "fails, or if --reflink=auto is specified, fall back to a standard copy.\n",
            "Use --reflink=never to ensure a standard copy is performed.\n",
            "\n",
            "The backup suffix is '~', unless set with --suffix or SIMPLE_BACKUP_SUFFIX.\n",
            "The version control method may be selected via the --backup option or through\n",
            "the VERSION_CONTROL environment variable.  Here are the values:\n",
            "\n",
            "  none, off       never make backups (even if --backup is given)\n",
            "  numbered, t     make numbered backups\n",
            "  existing, nil   numbered if numbered backups exist, simple otherwise\n",
            "  simple, never   always make simple backups\n",
            "\n",
            "As a special case, cp makes a backup of SOURCE when the force and backup\n",
            "options are given and SOURCE and DEST are the same name for an existing,\n",
            "regular file.\n",
            "\n",
            "GNU coreutils online help: <https://www.gnu.org/software/coreutils/>\n",
            "Full documentation <https://www.gnu.org/software/coreutils/cp>\n",
            "or available locally via: info '(coreutils) cp invocation'\n"
          ]
        }
      ],
      "source": [
        "%cp --help"
      ]
    },
    {
      "cell_type": "markdown",
      "metadata": {
        "id": "t9_V4rqcJXzB"
      },
      "source": [
        "## An overview of line magics"
      ]
    },
    {
      "cell_type": "code",
      "execution_count": 10,
      "metadata": {
        "id": "YkWvEqBJJXzB",
        "outputId": "56a5f379-4517-483a-c5cc-a8151e8ba518",
        "colab": {
          "base_uri": "https://localhost:8080/"
        }
      },
      "outputs": [
        {
          "output_type": "stream",
          "name": "stdout",
          "text": [
            "Total number of aliases: 12\n"
          ]
        },
        {
          "output_type": "execute_result",
          "data": {
            "text/plain": [
              "[('cat', 'cat'),\n",
              " ('cp', 'cp'),\n",
              " ('ldir', 'ls -F -o --color %l | grep /$'),\n",
              " ('lf', 'ls -F -o --color %l | grep ^-'),\n",
              " ('lk', 'ls -F -o --color %l | grep ^l'),\n",
              " ('ll', 'ls -F -o --color'),\n",
              " ('ls', 'ls -F --color'),\n",
              " ('lx', 'ls -F -o --color %l | grep ^-..x'),\n",
              " ('mkdir', 'mkdir'),\n",
              " ('mv', 'mv'),\n",
              " ('rm', 'rm'),\n",
              " ('rmdir', 'rmdir')]"
            ]
          },
          "metadata": {},
          "execution_count": 10
        }
      ],
      "source": [
        "%alias"
      ]
    },
    {
      "cell_type": "markdown",
      "metadata": {
        "id": "S9uRBSEuJXzB"
      },
      "source": [
        "## An overview of cell magics"
      ]
    },
    {
      "cell_type": "code",
      "execution_count": 12,
      "metadata": {
        "id": "OfmOXR0UJXzB",
        "outputId": "e2649941-ba16-42b6-d049-d53cc5dca397",
        "colab": {
          "base_uri": "https://localhost:8080/",
          "height": 122
        }
      },
      "outputs": [
        {
          "output_type": "display_data",
          "data": {
            "text/plain": [
              "<IPython.core.display.HTML object>"
            ],
            "text/html": [
              "\n",
              "<p>This is a list.</p>\n",
              "<ul>\n",
              "  <li>Morning</li>\n",
              "  <li>Noon</li>\n",
              "  <li>Night</li>\n",
              "</ul>\n",
              "\n",
              "%%time\n"
            ]
          },
          "metadata": {}
        }
      ],
      "source": [
        "%%html\n",
        "\n",
        "<p>This is a list.</p>\n",
        "<ul>\n",
        "  <li>Morning</li>\n",
        "  <li>Noon</li>\n",
        "  <li>Night</li>\n",
        "</ul>\n",
        "\n",
        "%%time\n"
      ]
    },
    {
      "cell_type": "code",
      "execution_count": 14,
      "metadata": {
        "id": "jymPLvz9JXzB",
        "outputId": "9b43e8a6-25be-4302-c4a1-6004e238c3cc",
        "colab": {
          "base_uri": "https://localhost:8080/"
        }
      },
      "outputs": [
        {
          "output_type": "stream",
          "name": "stdout",
          "text": [
            "CPU times: user 4 µs, sys: 0 ns, total: 4 µs\n",
            "Wall time: 7.39 µs\n"
          ]
        }
      ],
      "source": [
        "%time"
      ]
    }
  ],
  "metadata": {
    "kernelspec": {
      "display_name": "Python 3",
      "language": "python",
      "name": "python3"
    },
    "language_info": {
      "codemirror_mode": {
        "name": "ipython",
        "version": 3
      },
      "file_extension": ".py",
      "mimetype": "text/x-python",
      "name": "python",
      "nbconvert_exporter": "python",
      "pygments_lexer": "ipython3",
      "version": "3.8.3"
    },
    "colab": {
      "provenance": []
    }
  },
  "nbformat": 4,
  "nbformat_minor": 0
}