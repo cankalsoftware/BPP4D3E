{
  "cells": [
    {
      "cell_type": "markdown",
      "metadata": {
        "id": "pOq1ErzF3jx7"
      },
      "source": [
        "# Processing Data Using the for Statement"
      ]
    },
    {
      "cell_type": "markdown",
      "metadata": {
        "id": "BE8-i7z83jx9"
      },
      "source": [
        "## Creating a basic for loop"
      ]
    },
    {
      "cell_type": "code",
      "execution_count": 1,
      "metadata": {
        "id": "hKpMumKZ3jx-",
        "outputId": "b307783d-7d5d-49f4-bd1f-ea2597a66d72",
        "colab": {
          "base_uri": "https://localhost:8080/"
        }
      },
      "outputs": [
        {
          "output_type": "stream",
          "name": "stdout",
          "text": [
            "Letter  1  is  H\n",
            "Letter  1  is  o\n",
            "Letter  1  is  w\n",
            "Letter  1  is  d\n",
            "Letter  1  is  y\n",
            "Letter  1  is  !\n"
          ]
        }
      ],
      "source": [
        "LetterNum = 1\n",
        "for Letter in \"Howdy!\":\n",
        "   print(\"Letter \", LetterNum, \" is \", Letter)\n",
        "   #LetterNum+=1"
      ]
    },
    {
      "cell_type": "markdown",
      "metadata": {
        "id": "kyju7RZ33jx_"
      },
      "source": [
        "## Controlling execution with the break statement"
      ]
    },
    {
      "cell_type": "code",
      "execution_count": null,
      "metadata": {
        "id": "yN3WykQl3jx_",
        "outputId": "b7a32adc-118f-4527-bc4f-13c14e3424e4"
      },
      "outputs": [
        {
          "name": "stdout",
          "output_type": "stream",
          "text": [
            "Type less than 6 characters: I am too long.\n",
            "Letter  1  is  I\n",
            "Letter  2  is   \n",
            "Letter  3  is  a\n",
            "Letter  4  is  m\n",
            "Letter  5  is   \n",
            "Letter  6  is  t\n",
            "The string is too long!\n"
          ]
        }
      ],
      "source": [
        "Value = input(\"Type less than 6 characters: \")\n",
        "LetterNum = 1\n",
        "for Letter in Value:\n",
        "   print(\"Letter \", LetterNum, \" is \", Letter)\n",
        "   LetterNum+=1\n",
        "   if LetterNum > 6:\n",
        "      print(\"The string is too long!\")\n",
        "      break"
      ]
    },
    {
      "cell_type": "markdown",
      "metadata": {
        "id": "2PAuRmi23jyA"
      },
      "source": [
        "## Controlling execution with the continue statement"
      ]
    },
    {
      "cell_type": "code",
      "execution_count": null,
      "metadata": {
        "id": "9KDRgm-Z3jyA",
        "outputId": "fb56279e-09a3-41fe-a11a-31a6e3af6628"
      },
      "outputs": [
        {
          "name": "stdout",
          "output_type": "stream",
          "text": [
            "Letter  1  is  H\n",
            "Letter  2  is  o\n",
            "Letter  3  is  d\n",
            "Letter  4  is  y\n",
            "Letter  5  is  !\n"
          ]
        }
      ],
      "source": [
        "LetterNum = 1\n",
        "for Letter in \"Howdy!\":\n",
        "   if Letter == \"w\":\n",
        "      continue\n",
        "      print(\"Encountered w, not processed.\")\n",
        "   print(\"Letter \", LetterNum, \" is \", Letter)\n",
        "   LetterNum+=1"
      ]
    },
    {
      "cell_type": "markdown",
      "metadata": {
        "id": "dEfFcyCS3jyA"
      },
      "source": [
        "## Doing nothing with the pass statement"
      ]
    },
    {
      "cell_type": "code",
      "execution_count": null,
      "metadata": {
        "id": "lksj9nkD3jyA",
        "outputId": "7debaa63-ecd2-494d-c03c-5738e0577fb3"
      },
      "outputs": [
        {
          "name": "stdout",
          "output_type": "stream",
          "text": [
            "Letter  1  is  H\n",
            "Letter  2  is  o\n",
            "Letter  3  is  w\n",
            "Letter  4  is  d\n",
            "Letter  5  is  y\n",
            "Letter  6  is  !\n"
          ]
        }
      ],
      "source": [
        "LetterNum = 1\n",
        "for Letter in \"Howdy!\":\n",
        "   if Letter == \"w\":\n",
        "      pass #Add some code here later to process w\n",
        "   print(\"Letter \", LetterNum, \" is \", Letter)\n",
        "   LetterNum+=1"
      ]
    },
    {
      "cell_type": "markdown",
      "metadata": {
        "id": "jZG7sBei3jyA"
      },
      "source": [
        "## Validating input with the else statement"
      ]
    },
    {
      "cell_type": "code",
      "execution_count": 3,
      "metadata": {
        "id": "pzOpz00Z3jyB",
        "outputId": "a3a76c34-a6bd-45a6-f320-bf9d34bc481d",
        "colab": {
          "base_uri": "https://localhost:8080/"
        }
      },
      "outputs": [
        {
          "output_type": "stream",
          "name": "stdout",
          "text": [
            "Type less than 6 characters: \n",
            "The string is blank.\n"
          ]
        }
      ],
      "source": [
        "Value = input(\"Type less than 6 characters: \")\n",
        "LetterNum = 1\n",
        "for Letter in Value:\n",
        "  print(\"Letter \", LetterNum, \" is \", Letter)\n",
        "  LetterNum+=1\n",
        "  if (Letter == \"\" or Letter == Value[-1]):\n",
        "    break\n",
        "else:\n",
        "  print(\"The string is blank.\")"
      ]
    },
    {
      "cell_type": "markdown",
      "metadata": {
        "id": "2NPL_w-23jyB"
      },
      "source": [
        "# Processing Data Using the while Statement"
      ]
    },
    {
      "cell_type": "markdown",
      "metadata": {
        "id": "M7coQJ-P3jyB"
      },
      "source": [
        "## Using the while statement in an application"
      ]
    },
    {
      "cell_type": "code",
      "execution_count": null,
      "metadata": {
        "id": "yksZIw6D3jyB",
        "outputId": "aa0bbba7-f4a9-4551-8f23-72cd84c7881d"
      },
      "outputs": [
        {
          "name": "stdout",
          "output_type": "stream",
          "text": [
            "0\n",
            "1\n",
            "2\n",
            "3\n",
            "4\n"
          ]
        }
      ],
      "source": [
        "Sum = 0\n",
        "while Sum < 5:\n",
        "   print(Sum)\n",
        "   Sum+=1"
      ]
    },
    {
      "cell_type": "markdown",
      "metadata": {
        "id": "IdgPW3xr3jyB"
      },
      "source": [
        "## Nesting Loop Statements"
      ]
    },
    {
      "cell_type": "code",
      "execution_count": 18,
      "metadata": {
        "id": "x4fd_pkZ3jyC",
        "outputId": "bd08b7c5-8d8c-4537-8b88-6f65010aaaec",
        "colab": {
          "base_uri": "https://localhost:8080/"
        }
      },
      "outputs": [
        {
          "output_type": "stream",
          "name": "stdout",
          "text": [
            "   *    1-   2-   3-   4-   5-   6-   7-   8-   9-  10-\n",
            "   1    1    2    3    4    5    6    7    8    9   10 \n",
            "   2    2    4    6    8   10   12   14   16   18   20 \n",
            "   3    3    6    9   12   15   18   21   24   27   30 \n",
            "   4    4    8   12   16   20   24   28   32   36   40 \n",
            "   5    5   10   15   20   25   30   35   40   45   50 \n",
            "   6    6   12   18   24   30   36   42   48   54   60 \n",
            "   7    7   14   21   28   35   42   49   56   63   70 \n",
            "   8    8   16   24   32   40   48   56   64   72   80 \n",
            "   9    9   18   27   36   45   54   63   72   81   90 \n",
            "  10   10   20   30   40   50   60   70   80   90  100 \n"
          ]
        }
      ],
      "source": [
        "X = 1\n",
        "Y = 1\n",
        "print ('{:>4}'.format('*'), end=' ')# you have to use the end to make print() as a column\n",
        "for X in range(1, 11):\n",
        "   print('{:>4}'.format(X), end='-') #{:>4} create a column with 4 char space, and adds the format( what ever will go to that column) and will be the last character in the column\n",
        "print() # creates anew line\n",
        "for X in range(1,11):\n",
        "   print('{:>4}'.format(X), end=' ')\n",
        "   while Y <= 10:\n",
        "      print('{:>4}'.format(X * Y), end=' ')\n",
        "      Y+=1\n",
        "   print()\n",
        "   Y=1"
      ]
    },
    {
      "cell_type": "code",
      "execution_count": null,
      "metadata": {
        "id": "9TbhPBRf3jyC"
      },
      "outputs": [],
      "source": []
    }
  ],
  "metadata": {
    "kernelspec": {
      "display_name": "Python 3",
      "language": "python",
      "name": "python3"
    },
    "language_info": {
      "codemirror_mode": {
        "name": "ipython",
        "version": 3
      },
      "file_extension": ".py",
      "mimetype": "text/x-python",
      "name": "python",
      "nbconvert_exporter": "python",
      "pygments_lexer": "ipython3",
      "version": "3.8.3"
    },
    "colab": {
      "provenance": []
    }
  },
  "nbformat": 4,
  "nbformat_minor": 0
}